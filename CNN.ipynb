{
 "cells": [
  {
   "cell_type": "code",
   "execution_count": 1,
   "id": "stone-adjustment",
   "metadata": {},
   "outputs": [
    {
     "data": {
      "text/plain": [
       "'2.1.0'"
      ]
     },
     "execution_count": 1,
     "metadata": {},
     "output_type": "execute_result"
    }
   ],
   "source": [
    "import tensorflow as tf\n",
    "from tensorflow.keras.datasets import cifar10\n",
    "import matplotlib.pyplot as plt \n",
    "\n",
    "%matplotlib inline\n",
    "tf.__version__"
   ]
  },
  {
   "cell_type": "code",
   "execution_count": 2,
   "id": "liked-characterization",
   "metadata": {},
   "outputs": [],
   "source": [
    "class_names = ['airplane', 'automobile', 'bird', 'cat', 'deer', 'dog', 'frog', 'horse', 'ship', 'truck']\n"
   ]
  },
  {
   "cell_type": "code",
   "execution_count": 3,
   "id": "recorded-strand",
   "metadata": {},
   "outputs": [],
   "source": [
    "(X_train, y_train),(X_test,y_test) = cifar10.load_data()"
   ]
  },
  {
   "cell_type": "code",
   "execution_count": 4,
   "id": "civic-imaging",
   "metadata": {},
   "outputs": [
    {
     "data": {
      "text/plain": [
       "(10000, 32, 32, 3)"
      ]
     },
     "execution_count": 4,
     "metadata": {},
     "output_type": "execute_result"
    }
   ],
   "source": [
    "X_test.shape"
   ]
  },
  {
   "cell_type": "code",
   "execution_count": 5,
   "id": "legal-apache",
   "metadata": {},
   "outputs": [],
   "source": [
    "\n",
    "X_train = X_train/255.0\n",
    "X_test = X_test/255.0 "
   ]
  },
  {
   "cell_type": "code",
   "execution_count": 6,
   "id": "freelance-quick",
   "metadata": {},
   "outputs": [
    {
     "data": {
      "text/plain": [
       "(10000, 32, 32, 3)"
      ]
     },
     "execution_count": 6,
     "metadata": {},
     "output_type": "execute_result"
    }
   ],
   "source": [
    "X_test.shape"
   ]
  },
  {
   "cell_type": "code",
   "execution_count": 7,
   "id": "liable-adjustment",
   "metadata": {},
   "outputs": [
    {
     "data": {
      "text/plain": [
       "<matplotlib.image.AxesImage at 0x2009211f648>"
      ]
     },
     "execution_count": 7,
     "metadata": {},
     "output_type": "execute_result"
    },
    {
     "data": {
      "image/png": "[encoded data removed]",
      "text/plain": [
       "<Figure size 432x288 with 1 Axes>"
      ]
     },
     "metadata": {
      "needs_background": "light"
     },
     "output_type": "display_data"
    }
   ],
   "source": [
    "plt.imshow(X_test[10])"
   ]
  },
  {
   "cell_type": "code",
   "execution_count": 8,
   "id": "allied-drill",
   "metadata": {},
   "outputs": [],
   "source": [
    "model = tf.keras.models.Sequential()"
   ]
  },
  {
   "cell_type": "code",
   "execution_count": 9,
   "id": "productive-floor",
   "metadata": {},
   "outputs": [],
   "source": [
    "model.add(tf.keras.layers.Conv2D(filters = 32, kernel_size = 3, padding = \"same\", activation = 'relu', input_shape = [32,32,3] ))"
   ]
  },
  {
   "cell_type": "code",
   "execution_count": 10,
   "id": "internal-separation",
   "metadata": {},
   "outputs": [],
   "source": [
    "model.add(tf.keras.layers.Conv2D(filters = 32, kernel_size = 3,padding = \"same\", activation = 'relu' ))\n",
    "model.add(tf.keras.layers.MaxPool2D(pool_size = 2, padding = \"valid\",strides = 2 ))"
   ]
  },
  {
   "cell_type": "code",
   "execution_count": 11,
   "id": "incomplete-malpractice",
   "metadata": {},
   "outputs": [],
   "source": [
    "model.add(tf.keras.layers.Conv2D(filters = 64, kernel_size = 3,padding = \"same\", activation = 'relu' ))"
   ]
  },
  {
   "cell_type": "code",
   "execution_count": 12,
   "id": "liked-radius",
   "metadata": {},
   "outputs": [],
   "source": [
    "model.add(tf.keras.layers.Conv2D(filters = 64, kernel_size = 3,padding = \"same\", activation = 'relu' ))\n",
    "model.add(tf.keras.layers.MaxPool2D(pool_size = 2, padding = \"valid\",strides = 2 ))"
   ]
  },
  {
   "cell_type": "code",
   "execution_count": 13,
   "id": "chemical-instrumentation",
   "metadata": {},
   "outputs": [],
   "source": [
    "model.add(tf.keras.layers.Flatten())"
   ]
  },
  {
   "cell_type": "code",
   "execution_count": 14,
   "id": "blank-washer",
   "metadata": {},
   "outputs": [],
   "source": [
    "model.add(tf.keras.layers.Dense(units = 128, activation = \"relu\"))"
   ]
  },
  {
   "cell_type": "code",
   "execution_count": 15,
   "id": "expressed-brighton",
   "metadata": {},
   "outputs": [],
   "source": [
    "model.add(tf.keras.layers.Dense(units = 10, activation = \"softmax\"))"
   ]
  },
  {
   "cell_type": "code",
   "execution_count": 16,
   "id": "bored-isolation",
   "metadata": {},
   "outputs": [
    {
     "name": "stdout",
     "output_type": "stream",
     "text": [
      "Model: \"sequential\"\n",
      "_________________________________________________________________\n",
      "Layer (type)                 Output Shape              Param #   \n",
      "=================================================================\n",
      "conv2d (Conv2D)              (None, 32, 32, 32)        896       \n",
      "_________________________________________________________________\n",
      "conv2d_1 (Conv2D)            (None, 32, 32, 32)        9248      \n",
      "_________________________________________________________________\n",
      "max_pooling2d (MaxPooling2D) (None, 16, 16, 32)        0         \n",
      "_________________________________________________________________\n",
      "conv2d_2 (Conv2D)            (None, 16, 16, 64)        18496     \n",
      "_________________________________________________________________\n",
      "conv2d_3 (Conv2D)            (None, 16, 16, 64)        36928     \n",
      "_________________________________________________________________\n",
      "max_pooling2d_1 (MaxPooling2 (None, 8, 8, 64)          0         \n",
      "_________________________________________________________________\n",
      "flatten (Flatten)            (None, 4096)              0         \n",
      "_________________________________________________________________\n",
      "dense (Dense)                (None, 128)               524416    \n",
      "_________________________________________________________________\n",
      "dense_1 (Dense)              (None, 10)                1290      \n",
      "=================================================================\n",
      "Total params: 591,274\n",
      "Trainable params: 591,274\n",
      "Non-trainable params: 0\n",
      "_________________________________________________________________\n"
     ]
    }
   ],
   "source": [
    "model.summary()"
   ]
  },
  {
   "cell_type": "code",
   "execution_count": 17,
   "id": "caroline-newman",
   "metadata": {},
   "outputs": [],
   "source": [
    "model.compile(loss = \"sparse_categorical_crossentropy\",\n",
    "             optimizer = \"Adam\", metrics = [\"sparse_categorical_accuracy\"])"
   ]
  },
  {
   "cell_type": "code",
   "execution_count": 18,
   "id": "original-footwear",
   "metadata": {},
   "outputs": [
    {
     "name": "stdout",
     "output_type": "stream",
     "text": [
      "Train on 50000 samples\n",
      "Epoch 1/10\n",
      "50000/50000 [==============================] - 14s 271us/sample - loss: 1.3696 - sparse_categorical_accuracy: 0.5070\n",
      "Epoch 2/10\n",
      "50000/50000 [==============================] - 11s 217us/sample - loss: 0.9060 - sparse_categorical_accuracy: 0.6816\n",
      "Epoch 3/10\n",
      "50000/50000 [==============================] - 12s 230us/sample - loss: 0.7298 - sparse_categorical_accuracy: 0.7450\n",
      "Epoch 4/10\n",
      "50000/50000 [==============================] - 12s 243us/sample - loss: 0.6021 - sparse_categorical_accuracy: 0.7868 - loss: 0.6036 - sparse_categorical_acc - ETA: 1s - loss: 0.6016 - sparse_categoric\n",
      "Epoch 5/10\n",
      "50000/50000 [==============================] - 12s 243us/sample - loss: 0.4949 - sparse_categorical_accuracy: 0.8259 - loss: - ETA: 0s - loss: 0.4937 - sparse_categorical_accurac\n",
      "Epoch 6/10\n",
      "50000/50000 [==============================] - 12s 239us/sample - loss: 0.3984 - sparse_categorical_accuracy: 0.8576s -  - ETA: 9s - loss: 0.3 - ETA: 7s - loss: 0.3733 - sparse_categorical_ - ETA\n",
      "Epoch 7/10\n",
      "50000/50000 [==============================] - 12s 240us/sample - loss: 0.3201 - sparse_categorical_accuracy: 0.8853 - loss: 0.3060 - sparse_categorical_accurac - ETA: 2s - loss: 0.3087 -  - ETA: 1s - loss: 0.3171 - sparse_categor\n",
      "Epoch 8/10\n",
      "50000/50000 [==============================] - 12s 241us/sample - loss: 0.2443 - sparse_categorical_accuracy: 0.9143\n",
      "Epoch 9/10\n",
      "50000/50000 [==============================] - 13s 251us/sample - loss: 0.2018 - sparse_categorical_accuracy: 0.9273 - loss: 0.1969 - sparse_ca\n",
      "Epoch 10/10\n",
      "50000/50000 [==============================] - 12s 237us/sample - loss: 0.1639 - sparse_categorical_accuracy: 0.9402\n"
     ]
    },
    {
     "data": {
      "text/plain": [
       "<tensorflow.python.keras.callbacks.History at 0x20098c6e048>"
      ]
     },
     "execution_count": 18,
     "metadata": {},
     "output_type": "execute_result"
    }
   ],
   "source": [
    "model.fit(X_train,y_train,epochs = 10)"
   ]
  },
  {
   "cell_type": "code",
   "execution_count": 19,
   "id": "southwest-forwarding",
   "metadata": {},
   "outputs": [
    {
     "name": "stdout",
     "output_type": "stream",
     "text": [
      "10000/10000 [==============================] - 1s 129us/sample - loss: 1.3125 - sparse_categorical_accuracy: 0.7288\n"
     ]
    }
   ],
   "source": [
    "test_loss, test_accuracy = model.evaluate(X_test,y_test)"
   ]
  },
  {
   "cell_type": "code",
   "execution_count": 20,
   "id": "novel-trade",
   "metadata": {},
   "outputs": [
    {
     "name": "stdout",
     "output_type": "stream",
     "text": [
      "Test loss: 1.312510637664795\n"
     ]
    }
   ],
   "source": [
    "print(f\"Test loss: {test_loss}\")"
   ]
  },
  {
   "cell_type": "code",
   "execution_count": 21,
   "id": "steady-appearance",
   "metadata": {},
   "outputs": [
    {
     "name": "stdout",
     "output_type": "stream",
     "text": [
      "Test accuracy: 0.7287999987602234\n"
     ]
    }
   ],
   "source": [
    "print(f\"Test accuracy: {test_accuracy}\")"
   ]
  }
 ],
 "metadata": {
  "kernelspec": {
   "display_name": "Python 3.7 (tensorflow)",
   "language": "python",
   "name": "tensorflow"
  },
  "language_info": {
   "codemirror_mode": {
    "name": "ipython",
    "version": 3
   },
   "file_extension": ".py",
   "mimetype": "text/x-python",
   "name": "python",
   "nbconvert_exporter": "python",
   "pygments_lexer": "ipython3",
   "version": "3.7.10"
  }
 },
 "nbformat": 4,
 "nbformat_minor": 5
}
